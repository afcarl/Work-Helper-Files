{
 "cells": [
  {
   "cell_type": "code",
   "execution_count": 1,
   "metadata": {
    "collapsed": false
   },
   "outputs": [],
   "source": [
    "import pandas as pd\n",
    "import xlrd\n",
    "import numpy as np\n",
    "import xlsxwriter"
   ]
  },
  {
   "cell_type": "code",
   "execution_count": 14,
   "metadata": {
    "collapsed": false
   },
   "outputs": [
    {
     "name": "stdout",
     "output_type": "stream",
     "text": [
      "    intFY  curRequest  intProjectID\n",
      "8    2024     1713728           514\n",
      "9    2025     2652850           514\n",
      "10   2026    15970159           514\n",
      "11   2027    16481204           514\n",
      "12   2028     9719202           514\n",
      "8    2024     1621094           515\n",
      "9    2025     2509453           515\n",
      "10   2026    15106908           515\n",
      "11   2027    15590329           515\n",
      "12   2028     9193839           515\n",
      "8    2024      452877           516\n",
      "9    2025      701054           516\n",
      "10   2026     4220342           516\n",
      "11   2027     4355393           516\n",
      "12   2028     2568438           516\n",
      "8    2024      180122           517\n",
      "9    2025      278828           517\n",
      "10   2026     1678545           517\n",
      "11   2027     1732259           517\n",
      "12   2028     1021538           517\n",
      "8    2024      452877           518\n",
      "9    2025      701054           518\n",
      "10   2026     4220342           518\n",
      "11   2027     4355393           518\n",
      "12   2028     2568438           518\n",
      "8    2024      596974           519\n",
      "9    2025      924116           519\n",
      "10   2026     5563179           519\n",
      "11   2027     5741200           519\n",
      "12   2028     3385668           519\n",
      "..    ...         ...           ...\n",
      "4    2020      500000           666\n",
      "5    2021      500000           666\n",
      "6    2022      500000           666\n",
      "7    2023      500000           666\n",
      "8    2024      500000           666\n",
      "9    2025      500000           666\n",
      "10   2026      500000           666\n",
      "11   2027      500000           666\n",
      "12   2028      500000           666\n",
      "13   2029      500000           666\n",
      "14   2030      500000           666\n",
      "15   2031      500000           666\n",
      "16   2032      500000           666\n",
      "17   2033      500000           666\n",
      "18   2034      500000           666\n",
      "19   2035      500000           666\n",
      "20   2036      500000           666\n",
      "21   2037      500000           666\n",
      "22   2038      500000           666\n",
      "23   2039      500000           666\n",
      "24   2040      500000           666\n",
      "2    2018     2000000           667\n",
      "3    2019     9000000           667\n",
      "4    2020     9000000           667\n",
      "19   2035      750000           668\n",
      "20   2036     1750000           668\n",
      "16   2032     4035000           669\n",
      "17   2033     9415000           669\n",
      "20   2036     6000000           670\n",
      "21   2037    14000000           670\n",
      "\n",
      "[412 rows x 3 columns]\n"
     ]
    }
   ],
   "source": [
    "#import file from excel\n",
    "df= pd.read_excel(\"ForIpython.xlsx\" , sheetname=0, header=0)\n",
    "\n",
    "#format to database structure\n",
    "dfsum = pd.DataFrame()\n",
    "for column in df:\n",
    "    frame=df[column].reset_index()\n",
    "    frame[\"id\"]=column\n",
    "    frame.columns=['intFY','curRequest','intProjectID']\n",
    "    dfsum=dfsum.append(frame)\n",
    "result = dfsum[np.isfinite(dfsum['curRequest'])]\n",
    "print(result)\n",
    "#1613 rows, 3 columns\n",
    "\n",
    "#Open xls writer engine\n",
    "writer = pd.ExcelWriter('pandas_simple.xlsx', engine='xlsxwriter')\n",
    "\n",
    "# Convert the dataframe to an XlsxWriter Excel object.\n",
    "result.to_excel(writer, sheet_name='Sheet1')\n",
    "\n",
    "# Close the Pandas Excel writer and output the Excel file.\n",
    "writer.save()"
   ]
  },
  {
   "cell_type": "code",
   "execution_count": null,
   "metadata": {
    "collapsed": true
   },
   "outputs": [],
   "source": []
  }
 ],
 "metadata": {
  "kernelspec": {
   "display_name": "Python 3",
   "language": "python",
   "name": "python3"
  },
  "language_info": {
   "codemirror_mode": {
    "name": "ipython",
    "version": 3
   },
   "file_extension": ".py",
   "mimetype": "text/x-python",
   "name": "python",
   "nbconvert_exporter": "python",
   "pygments_lexer": "ipython3",
   "version": "3.5.1"
  }
 },
 "nbformat": 4,
 "nbformat_minor": 0
}
